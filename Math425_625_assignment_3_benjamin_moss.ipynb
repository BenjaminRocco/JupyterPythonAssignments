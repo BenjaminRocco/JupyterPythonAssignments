{
 "cells": [
  {
   "cell_type": "markdown",
   "id": "d69138e9",
   "metadata": {},
   "source": [
    "**Assignment 3: MATH 425/625 Numerical Analysis**\n",
    "\n",
    "**Ben Moss**"
   ]
  },
  {
   "cell_type": "markdown",
   "id": "9a7b0d60",
   "metadata": {},
   "source": [
    "**Question 1**: Fitting natural cubic splines $S_j(x) = a_j + b_j(x - x_j) + c_j(x - x_j)^2 + d_j(x-x_j)^3$.\n",
    "\n",
    "1. Simulate data from $y = cos(x)$ for $x$ in the interval $[-\\pi/2, \\pi/2]$. Use equally spaced $x$ values.\n",
    "1. Set up the tri-diagonal coefficient matrix $A$ for natural cubic splines. \n",
    "1. Set up the $y$ vector and solve the system $Ac = y$ to obtain the $c$'s. Use scipy linalg to solve the system.\n",
    "1. Solve for the other coefficients: $a$'s, $b$'s, and $d$'s.\n",
    "1. Compare the fitted coefficients with values from the scipy builtin cubic splines function for the first three splines.\n",
    "1. (Graduate Students) Plot the $cos(x)$ curve and the interpolate the values using a finner grid and your own spline code."
   ]
  },
  {
   "cell_type": "code",
   "execution_count": 29,
   "id": "69c23600",
   "metadata": {},
   "outputs": [],
   "source": [
    "import numpy as np\n",
    "from math import sqrt\n",
    "from scipy import linalg\n",
    "import matplotlib.pyplot as plt\n",
    "from scipy.interpolate import CubicSpline"
   ]
  },
  {
   "cell_type": "markdown",
   "id": "37c2e903",
   "metadata": {},
   "source": [
    "**Solution:** 1. Simulate data from $y = cos(x)$ for $x$ in the interval $[-\\pi/2, \\pi/2]$. Use equally spaced $x$ values."
   ]
  },
  {
   "cell_type": "code",
   "execution_count": 30,
   "id": "b539f0a0",
   "metadata": {},
   "outputs": [
    {
     "data": {
      "text/plain": [
       "(-2.0, 2.0)"
      ]
     },
     "execution_count": 30,
     "metadata": {},
     "output_type": "execute_result"
    },
    {
     "data": {
      "image/png": "[encoded data removed]",
      "text/plain": [
       "<Figure size 432x288 with 1 Axes>"
      ]
     },
     "metadata": {
      "needs_background": "light"
     },
     "output_type": "display_data"
    }
   ],
   "source": [
    "x_grid = np.arange(-np.pi/2., np.pi/2., 0.35)\n",
    "y_grid = np.cos(x_grid)\n",
    "\n",
    "x = np.arange(-np.pi/2, np.pi/2, 0.1)\n",
    "y = np.cos(x)\n",
    "\n",
    "fix, ax = plt.subplots()\n",
    "\n",
    "ax.plot(x_grid, y_grid, ls = '', markersize = 9, marker = 'o', color = 'green')\n",
    "ax.plot(x, y, ls = '-', lw = 1, color = 'blue')\n",
    "\n",
    "ax.set_ylim([-2, 2])\n",
    "\n"
   ]
  },
  {
   "cell_type": "markdown",
   "id": "b5c66caa",
   "metadata": {},
   "source": [
    "**Solution**: \n",
    "2. Set up the tri-diagonal coefficient matrix $A$ for natural cubic splines. "
   ]
  },
  {
   "cell_type": "code",
   "execution_count": 31,
   "id": "4e3d32a1",
   "metadata": {},
   "outputs": [],
   "source": [
    "#xcos = [-np.pi/2, -np.pi/2 + np.pi/8, -np.pi/4, -np.pi/8, 0, np.pi/8, np.pi/4, np.pi/4 + np.pi/8, np.pi/2]\n",
    "#ycos = [0, np.sin(np.pi/8), 1/sqrt(2), np.cos(np.pi/8), 1, np.cos(np.pi/8), 1/sqrt(2), np.sin(np.pi/8), 0]"
   ]
  },
  {
   "cell_type": "code",
   "execution_count": 32,
   "id": "9bf25374",
   "metadata": {},
   "outputs": [],
   "source": [
    "#print(xcos)\n",
    "#print(ycos)"
   ]
  },
  {
   "cell_type": "code",
   "execution_count": 33,
   "id": "c944acdb",
   "metadata": {},
   "outputs": [
    {
     "name": "stdout",
     "output_type": "stream",
     "text": [
      "-0.3500000000000001\n",
      "-0.3500000000000001\n",
      "-0.3500000000000001\n",
      "-0.3500000000000001\n",
      "-0.3500000000000001\n",
      "-0.3500000000000001\n",
      "-0.3500000000000001\n",
      "-0.3500000000000001\n"
     ]
    }
   ],
   "source": [
    "h0 = x_grid[0] - x_grid[1]\n",
    "h1 = x_grid[1] - x_grid[2]\n",
    "h2 = x_grid[2] - x_grid[3]\n",
    "h3 = x_grid[3] - x_grid[4]\n",
    "h4 = x_grid[4] - x_grid[5]\n",
    "h5 = x_grid[5] - x_grid[6]\n",
    "h6 = x_grid[6] - x_grid[7]\n",
    "h7 = x_grid[7] - x_grid[8]\n",
    "\n",
    "print(h0)\n",
    "print(h1)\n",
    "print(h2)\n",
    "print(h3)\n",
    "print(h4)\n",
    "print(h5)\n",
    "print(h6)\n",
    "print(h7)"
   ]
  },
  {
   "cell_type": "code",
   "execution_count": 34,
   "id": "8060f2aa",
   "metadata": {},
   "outputs": [],
   "source": [
    "Acos =  np.array([[1,0,0,0,0,0,0,0],\n",
    "                  [h0, 2*(h0 + h1),h1,0,0,0,0,0],\n",
    "                  [0,h1, 2 * (h1 + h2), h2,0,0,0,0],\n",
    "                  [0,0,h2,2*(h2+h3),h3,0,0,0],\n",
    "                  [0,0,0,h3,2*(h3+h4),h4,0,0],\n",
    "                 [0,0,0,0,h4,2*(h4+h5),h6,0],\n",
    "                 [0,0,0,0,0,h5,2*(h5+h6),h6],\n",
    "                 [0,0,0,0,0,0,0,1]\n",
    "                 ])"
   ]
  },
  {
   "cell_type": "code",
   "execution_count": 35,
   "id": "3d5433c2",
   "metadata": {},
   "outputs": [
    {
     "name": "stdout",
     "output_type": "stream",
     "text": [
      "[[ 1.    0.    0.    0.    0.    0.    0.    0.  ]\n",
      " [-0.35 -1.4  -0.35  0.    0.    0.    0.    0.  ]\n",
      " [ 0.   -0.35 -1.4  -0.35  0.    0.    0.    0.  ]\n",
      " [ 0.    0.   -0.35 -1.4  -0.35  0.    0.    0.  ]\n",
      " [ 0.    0.    0.   -0.35 -1.4  -0.35  0.    0.  ]\n",
      " [ 0.    0.    0.    0.   -0.35 -1.4  -0.35  0.  ]\n",
      " [ 0.    0.    0.    0.    0.   -0.35 -1.4  -0.35]\n",
      " [ 0.    0.    0.    0.    0.    0.    0.    1.  ]]\n"
     ]
    }
   ],
   "source": [
    "print(Acos)"
   ]
  },
  {
   "cell_type": "markdown",
   "id": "16710532",
   "metadata": {},
   "source": [
    "**Acos is our coefficient matrix.**"
   ]
  },
  {
   "cell_type": "markdown",
   "id": "98bdbc07",
   "metadata": {},
   "source": [
    "**Solution**: \n",
    "3. Set up the $y$ vector and solve the system $Ac = y$ to obtain the $c$'s. Use scipy linalg to solve the system."
   ]
  },
  {
   "cell_type": "code",
   "execution_count": 36,
   "id": "74327fc0",
   "metadata": {},
   "outputs": [
    {
     "name": "stdout",
     "output_type": "stream",
     "text": [
      "[[0.        ]\n",
      " [0.35638224]\n",
      " [0.6695515 ]\n",
      " [0.90153458]\n",
      " [1.02420246]\n",
      " [1.02268112]\n",
      " [0.89715501]\n",
      " [0.        ]]\n"
     ]
    }
   ],
   "source": [
    "Yvec = np.array([[0], \n",
    "                 [3*((1/h1)*(y_grid[2]-y_grid[1])-(1/h0)*(y_grid[1]-y_grid[0]))], \n",
    "                 [3*((1/h2)*(y_grid[3]-y_grid[2])-(1/h1)*(y_grid[2]-y_grid[1]))], \n",
    "                 [3*((1/h3)*(y_grid[4]-y_grid[3])-(1/h2)*(y_grid[3]-y_grid[2]))], \n",
    "                 [3*((1/h4)*(y_grid[5]-y_grid[4])-(1/h3)*(y_grid[4]-y_grid[3]))], \n",
    "                 [3*((1/h5)*(y_grid[6]-y_grid[5])-(1/h4)*(y_grid[5]-y_grid[4]))], \n",
    "                 [3*((1/h6)*(y_grid[7]-y_grid[6])-(1/h5)*(y_grid[6]-y_grid[5]))], \n",
    "                 [0]])\n",
    "print(Yvec)"
   ]
  },
  {
   "cell_type": "code",
   "execution_count": 37,
   "id": "7c693091",
   "metadata": {},
   "outputs": [
    {
     "name": "stdout",
     "output_type": "stream",
     "text": [
      "c = \n",
      " [[ 0.        ]\n",
      " [-0.1730955 ]\n",
      " [-0.32585296]\n",
      " [-0.43649693]\n",
      " [-0.50397238]\n",
      " [-0.47390631]\n",
      " [-0.52234843]\n",
      " [ 0.        ]] \n",
      "\n"
     ]
    }
   ],
   "source": [
    "cvalues = linalg.solve(Acos, Yvec)\n",
    "print('c = \\n', cvalues, '\\n')"
   ]
  },
  {
   "cell_type": "code",
   "execution_count": 38,
   "id": "2e3d7508",
   "metadata": {},
   "outputs": [
    {
     "name": "stdout",
     "output_type": "stream",
     "text": [
      "[0.]\n",
      "[-0.1730955]\n",
      "[-0.32585296]\n",
      "[-0.43649693]\n",
      "[-0.50397238]\n",
      "[-0.47390631]\n",
      "[-0.52234843]\n",
      "[0.]\n"
     ]
    }
   ],
   "source": [
    "print(cvalues[0])\n",
    "print(cvalues[1])\n",
    "print(cvalues[2])\n",
    "print(cvalues[3])\n",
    "print(cvalues[4])\n",
    "print(cvalues[5])\n",
    "print(cvalues[6])\n",
    "print(cvalues[7])"
   ]
  },
  {
   "cell_type": "markdown",
   "id": "d9745bf6",
   "metadata": {},
   "source": [
    "These are the $c_j$ values."
   ]
  },
  {
   "cell_type": "markdown",
   "id": "7ed3d10c",
   "metadata": {},
   "source": [
    "**Solution**: \n",
    "4. Solve for the other coefficients: $a$'s, $b$'s, and $d$'s."
   ]
  },
  {
   "cell_type": "markdown",
   "id": "acd138ff",
   "metadata": {},
   "source": [
    "$a_j$'s are given by $$a_j = f(x_j).$$ This implies"
   ]
  },
  {
   "cell_type": "code",
   "execution_count": 39,
   "id": "fd8f0f68",
   "metadata": {},
   "outputs": [
    {
     "name": "stdout",
     "output_type": "stream",
     "text": [
      "6.123233995736766e-17\n",
      "0.3428978074554515\n",
      "0.6442176872376912\n",
      "0.8674232255940171\n",
      "0.9854497299884603\n",
      "0.9839859468739368\n",
      "0.8632093666488735\n",
      "0.6377647021345033\n"
     ]
    }
   ],
   "source": [
    "a_0 = np.cos(x_grid[0])\n",
    "a_1 = np.cos(x_grid[1])\n",
    "a_2 = np.cos(x_grid[2])\n",
    "a_3 = np.cos(x_grid[3])\n",
    "a_4 = np.cos(x_grid[4])\n",
    "a_5 = np.cos(x_grid[5])\n",
    "a_6 = np.cos(x_grid[6])\n",
    "a_7 = np.cos(x_grid[7])\n",
    "a_8 = np.cos(x_grid[8])\n",
    "\n",
    "print(a_0)\n",
    "print(a_1)\n",
    "print(a_2)\n",
    "print(a_3)\n",
    "print(a_4)\n",
    "print(a_5)\n",
    "print(a_6)\n",
    "print(a_7)"
   ]
  },
  {
   "cell_type": "markdown",
   "id": "f065ea4f",
   "metadata": {},
   "source": [
    "These our the $a_j$ values."
   ]
  },
  {
   "cell_type": "markdown",
   "id": "6c5412d1",
   "metadata": {},
   "source": [
    "We acquire $b_0$ from our formula in class\n",
    "$$b_j = \\dfrac{a_{j+1}-a_{j}}{h_{j}}-\\dfrac{h_{j}(c_{j+1}+2c_{j})}{3}.$$\n",
    "Which implies that \n",
    "$$b_{0}=\\dfrac{a_{1}-a_{0}}{h_{0}}-\\dfrac{h_{0}(c_{1}+2c_{0})}{3}.$$\n",
    "\n",
    "From class we also derived that \n",
    "$$b_{j}=b_{j-1}+(c_{j}+c_{j-1})h_{j-1}.$$"
   ]
  },
  {
   "cell_type": "code",
   "execution_count": 40,
   "id": "d9be3357",
   "metadata": {},
   "outputs": [
    {
     "name": "stdout",
     "output_type": "stream",
     "text": [
      "[-0.9999025]\n",
      "[-0.93931907]\n",
      "[-0.76468711]\n",
      "[-0.49786465]\n",
      "[-0.16870039]\n",
      "[0.17355715]\n",
      "[0.52224631]\n",
      "[0.70506826]\n"
     ]
    }
   ],
   "source": [
    "b_0 = (a_1 - a_0)/h0 - (h0*(cvalues[1] + 2 * cvalues[0]))/3\n",
    "b_1 = b_0 + (cvalues[1] + cvalues[0])*h0\n",
    "b_2 = b_1 + (cvalues[2] + cvalues[1])*h1\n",
    "b_3 = b_2 + (cvalues[3] + cvalues[2])*h2\n",
    "b_4 = b_3 + (cvalues[4] + cvalues[3])*h3\n",
    "b_5 = b_4 + (cvalues[5] + cvalues[4])*h4\n",
    "b_6 = b_5 + (cvalues[6] + cvalues[5])*h5\n",
    "b_7 = b_6 + (cvalues[7] + cvalues[6])*h6\n",
    "\n",
    "print(b_0)\n",
    "print(b_1)\n",
    "print(b_2)\n",
    "print(b_3)\n",
    "print(b_4)\n",
    "print(b_5)\n",
    "print(b_6)\n",
    "print(b_7)"
   ]
  },
  {
   "cell_type": "markdown",
   "id": "55ac4aad",
   "metadata": {},
   "source": [
    "These our the $b_j$ values."
   ]
  },
  {
   "cell_type": "markdown",
   "id": "2b8b6452",
   "metadata": {},
   "source": [
    "From class we know that $d_j$'s are given by \n",
    "\n",
    "$$d_j = \\dfrac{c_{j+1}-c_{j}}{3h_j}.$$"
   ]
  },
  {
   "cell_type": "code",
   "execution_count": 41,
   "id": "d79f691d",
   "metadata": {},
   "outputs": [
    {
     "name": "stdout",
     "output_type": "stream",
     "text": [
      "[0.16485286]\n",
      "[0.1454833]\n",
      "[0.10537521]\n",
      "[0.06426233]\n",
      "[-0.02863435]\n",
      "[0.04613535]\n",
      "[-0.49747469]\n"
     ]
    }
   ],
   "source": [
    "d_0 = (cvalues[1]-cvalues[0])/(3 * h0)\n",
    "d_1 = (cvalues[2]-cvalues[1])/(3 * h1)\n",
    "d_2 = (cvalues[3]-cvalues[2])/(3 * h2)\n",
    "d_3 = (cvalues[4]-cvalues[3])/(3 * h3)\n",
    "d_4 = (cvalues[5]-cvalues[4])/(3 * h4)\n",
    "d_5 = (cvalues[6]-cvalues[5])/(3 * h5)\n",
    "d_6 = (cvalues[7]-cvalues[6])/(3 * h6)\n",
    "\n",
    "print(d_0)\n",
    "print(d_1)\n",
    "print(d_2)\n",
    "print(d_3)\n",
    "print(d_4)\n",
    "print(d_5)\n",
    "print(d_6)"
   ]
  },
  {
   "cell_type": "markdown",
   "id": "650dab47",
   "metadata": {},
   "source": [
    "These are the $d_j$ values. "
   ]
  },
  {
   "cell_type": "markdown",
   "id": "e59e97b8",
   "metadata": {},
   "source": [
    "**Solution**: \n",
    "5. Compare the fitted coefficients with values from the scipy builtin cubic splines function for the first three splines."
   ]
  },
  {
   "cell_type": "code",
   "execution_count": 42,
   "id": "6b3c3778",
   "metadata": {},
   "outputs": [
    {
     "name": "stdout",
     "output_type": "stream",
     "text": [
      "S0(0<=x<=1) =  6.123233995736766e-17  +  0.9999172246068342 (x-0) +  0.0 (x-0)^2  +  -0.1649730882085268 (x-0)^3\n",
      "S1(1< x<=2) =  0.3428978074554515  +  0.9392896146902006 (x-1) +  -0.17322174261895476 (x-1)^2  +  -0.1448821431722118 (x-1)^3\n",
      "S2(2< x<=3) =  0.6442176872376912  +  0.7647902072411444 (x-2) +  -0.32534799294977657 (x-2)^2  +  -0.10765959280996192 (x-2)^3\n"
     ]
    }
   ],
   "source": [
    "cs = CubicSpline(x_grid, y_grid, bc_type = 'natural')\n",
    "\n",
    "# S1 Polynomial coefficients\n",
    "a0 = cs.c.item(3,0)\n",
    "b0 = cs.c.item(2,0)\n",
    "c0 = cs.c.item(1,0)\n",
    "d0 = cs.c.item(0,0)\n",
    "\n",
    "# S2 Polynomial coefficients\n",
    "a1 = cs.c.item(3,1)\n",
    "b1 = cs.c.item(2,1)\n",
    "c1 = cs.c.item(1,1)\n",
    "d1 = cs.c.item(0,1)\n",
    "\n",
    "# S3 Polynomial coefficients\n",
    "a2 = cs.c.item(3,2)\n",
    "b2 = cs.c.item(2,2)\n",
    "c2 = cs.c.item(1,2)\n",
    "d2 = cs.c.item(0,2)\n",
    "\n",
    "# Print polynomial equations for different x regions\n",
    "print('S0(0<=x<=1) = ', a0, ' + ', b0, '(x-0) + ', c0, '(x-0)^2  + ', d0, '(x-0)^3')\n",
    "print('S1(1< x<=2) = ', a1, ' + ', b1, '(x-1) + ', c1, '(x-1)^2  + ', d1, '(x-1)^3')\n",
    "print('S2(2< x<=3) = ', a2, ' + ', b2, '(x-2) + ', c2, '(x-2)^2  + ', d2, '(x-2)^3')"
   ]
  },
  {
   "cell_type": "code",
   "execution_count": 43,
   "id": "f9f5aa67",
   "metadata": {},
   "outputs": [
    {
     "name": "stdout",
     "output_type": "stream",
     "text": [
      "a_j value differences:\n",
      "0.0\n",
      "0.0\n",
      "0.0\n",
      "b_j value differences:\n",
      "[1.99981972]\n",
      "[1.87860869]\n",
      "[1.52947732]\n",
      "c_j value differences:\n",
      "[0.]\n",
      "[0.00012624]\n",
      "[0.00050497]\n",
      "d_j value differences:\n",
      "[0.32982595]\n",
      "[0.29036544]\n",
      "[0.21303481]\n"
     ]
    }
   ],
   "source": [
    "a0_diff = np.abs(a_0 - a0)\n",
    "a1_diff = np.abs(a_1 - a1)\n",
    "a2_diff = np.abs(a_2 - a2)\n",
    "\n",
    "print('a_j value differences:')\n",
    "print(a0_diff)\n",
    "print(a1_diff)\n",
    "print(a2_diff)\n",
    "\n",
    "b0_diff = np.abs(b_0 - b0)\n",
    "b1_diff = np.abs(b_1 - b1)\n",
    "b2_diff = np.abs(b_2 - b2)\n",
    "\n",
    "print('b_j value differences:')\n",
    "print(b0_diff)\n",
    "print(b1_diff)\n",
    "print(b2_diff)\n",
    "\n",
    "c0_diff = np.abs(cvalues[0] - c0)\n",
    "c1_diff = np.abs(cvalues[1] - c1)\n",
    "c2_diff = np.abs(cvalues[2] - c2)\n",
    "\n",
    "print('c_j value differences:')\n",
    "print(c0_diff)\n",
    "print(c1_diff)\n",
    "print(c2_diff)\n",
    "\n",
    "d0_diff = np.abs(d_0 - d0)\n",
    "d1_diff = np.abs(d_1 - d1)\n",
    "d2_diff = np.abs(d_2 - d2)\n",
    "\n",
    "print('d_j value differences:')\n",
    "print(d0_diff)\n",
    "print(d1_diff)\n",
    "print(d2_diff)"
   ]
  },
  {
   "cell_type": "markdown",
   "id": "b929447d",
   "metadata": {},
   "source": [
    "Differences for $a_{j}$'s are trivial, as is expected from our initial conditions; however, greatest differences are in $b_{j}$'s while $c_{j}$'s differ the least and $d_{j}$'s differ by less than $\\frac{1}{3}$ among all $d_j$ coefficients. "
   ]
  },
  {
   "cell_type": "markdown",
   "id": "542c5c43",
   "metadata": {},
   "source": [
    "**Solution**: \n",
    "6. (Graduate Students) Plot the $cos(x)$ curve and the interpolate the values using a finner grid and your own spline code."
   ]
  },
  {
   "cell_type": "code",
   "execution_count": 44,
   "id": "7138a22a",
   "metadata": {},
   "outputs": [
    {
     "name": "stdout",
     "output_type": "stream",
     "text": [
      "0.9789492534132666 c_0\n",
      "0.003280665016858372 c_1\n",
      "-0.41525217347704113 c_2\n",
      "~~~~~~~~~~~~~~~~~~~~~~~~~~~~~~~~~~~~~~~~\n",
      "6.123233995736766e-17 a_0\n",
      "0.0998334166468283 a_1\n",
      "0.19866933079506144 a_2\n",
      "~~~~~~~~~~~~~~~~~~~~~~~~~~~~~~~~~~~~~~~~\n",
      "-0.056434096561589625 b_0\n",
      "-0.4002145680121334 b_1\n",
      "-0.2560245400510694 b_2\n",
      "~~~~~~~~~~~~~~~~~~~~~~~~~~~~~~~~~~~~~~~~\n",
      "0.9292081794251503 d_0\n",
      "0.39860270332752323 d_1\n",
      "-0.3926176779766148 d_2\n",
      "~~~~~~~~~~~~~~~~~~~~~~~~~~~~~~~~~~~~~~~~\n"
     ]
    },
    {
     "data": {
      "text/plain": [
       "[<matplotlib.lines.Line2D at 0x12512ac40>]"
      ]
     },
     "execution_count": 44,
     "metadata": {},
     "output_type": "execute_result"
    },
    {
     "data": {
      "image/png": "[encoded data removed]",
      "text/plain": [
       "<Figure size 432x288 with 1 Axes>"
      ]
     },
     "metadata": {
      "needs_background": "light"
     },
     "output_type": "display_data"
    }
   ],
   "source": [
    "xnew = np.arange(-np.pi/2, np.pi/2, 0.1)\n",
    "ynew = np.cos(xnew)\n",
    "\n",
    "AR = np.ones([len(xnew), 4])\n",
    "AR[:,0] = 1.0\n",
    "AR[:,1] = xnew\n",
    "AR[:,2] = xnew ** 2 \n",
    "AR[:,3] = xnew ** 3\n",
    "\n",
    "cnew = np.dot(linalg.pinv(AR), ynew)\n",
    "print(cnew[0] , 'c_0')\n",
    "print(cnew[1] , 'c_1')\n",
    "print(cnew[2] , 'c_2')\n",
    "print('~~~~~~~~~~~~~~~~~~~~~~~~~~~~~~~~~~~~~~~~')\n",
    "\n",
    "a0new = np.cos(xnew[0])\n",
    "a1new = np.cos(xnew[1])\n",
    "a2new = np.cos(xnew[2])\n",
    "\n",
    "print(a0new , 'a_0')\n",
    "print(a1new , 'a_1')\n",
    "print(a2new , 'a_2')\n",
    "print('~~~~~~~~~~~~~~~~~~~~~~~~~~~~~~~~~~~~~~~~')\n",
    "\n",
    "b0new = (a1new - a0new)/h0 - (h0*(cnew[1] + 2 * cnew[0]))/3\n",
    "b1new = b0new + (cnew[1] + cnew[0])*h0\n",
    "b2new = b1new + (cnew[2] + cnew[1])*h1\n",
    "\n",
    "print(b0new , 'b_0')\n",
    "print(b1new , 'b_1')\n",
    "print(b2new , 'b_2')\n",
    "print('~~~~~~~~~~~~~~~~~~~~~~~~~~~~~~~~~~~~~~~~')\n",
    "\n",
    "d0new = (cnew[1]-cnew[0])/(3 * h0)\n",
    "d1new = (cnew[2]-cnew[1])/(3 * h1)\n",
    "d2new = (cnew[3]-cnew[2])/(3 * h2)\n",
    "\n",
    "print(d0new , 'd_0')\n",
    "print(d1new , 'd_1')\n",
    "print(d2new , 'd_2')\n",
    "print('~~~~~~~~~~~~~~~~~~~~~~~~~~~~~~~~~~~~~~~~')\n",
    "\n",
    "p_hat = lambda xnew: np.array([cnew[i] * xnew ** i for i in range(AR.shape[1])]).sum()\n",
    "\n",
    "x_gridnew = np.arange(-np.pi/2, np.pi/2, 0.1)\n",
    "y_hat = [p_hat(x0) for x0 in x_gridnew]\n",
    "\n",
    "fig, hx = plt.subplots()\n",
    "\n",
    "hx.plot(xnew, ynew, ls = '', markersize = 5, marker = 'o', color = 'green')\n",
    "hx.plot(x_gridnew, y_hat, ls = '-', lw = 1, color = 'red')"
   ]
  }
 ],
 "metadata": {
  "kernelspec": {
   "display_name": "Python 3",
   "language": "python",
   "name": "python3"
  },
  "language_info": {
   "codemirror_mode": {
    "name": "ipython",
    "version": 3
   },
   "file_extension": ".py",
   "mimetype": "text/x-python",
   "name": "python",
   "nbconvert_exporter": "python",
   "pygments_lexer": "ipython3",
   "version": "3.8.8"
  }
 },
 "nbformat": 4,
 "nbformat_minor": 5
}
