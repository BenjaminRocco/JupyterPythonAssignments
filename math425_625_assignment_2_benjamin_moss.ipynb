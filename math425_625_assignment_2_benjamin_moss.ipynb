{
 "cells": [
  {
   "cell_type": "code",
   "execution_count": 3,
   "source": [
    "import numpy as np\n",
    "import math"
   ],
   "outputs": [],
   "metadata": {}
  },
  {
   "cell_type": "code",
   "execution_count": 15,
   "source": [
    "f = lambda x: 230*x**4+18*x**3+9*x**2-221*x-9\n",
    "\n",
    "# Implementing False Position (Regula Falsi) Method\n",
    "def falsePosition(f,x0,x1,e):\n",
    "    step = 1\n",
    "    print('\\n\\n*** FALSE POSITION (REGULA FALSI) METHOD IMPLEMENTATION ***')\n",
    "    condition = True\n",
    "    while condition:\n",
    "        x2 = x0 - (x1-x0) * f(x0)/( f(x1) - f(x0) )\n",
    "        print('Iteration-%d, x2 = %0.6f and f(x2) = %0.6f' % (step, x2, f(x2)))\n",
    "\n",
    "        if f(x0) * f(x2) < 0:\n",
    "            x1 = x2\n",
    "        else:\n",
    "            x0 = x2\n",
    "\n",
    "        step = step + 1\n",
    "        condition = abs(f(x2)) > e\n",
    "\n",
    "    print('\\nRequired root is: %0.8f' % x2)\n",
    "    \n",
    "x0 = float(input('First Guess: '))\n",
    "x1 = float(input('Second Guess: '))\n",
    "e = float(input('Tolerable Error: '))\n",
    "\n",
    "\n",
    "# Checking accuracy of initial guess values and false positioning\n",
    "if f(x0) * f(x1) > 0.0:\n",
    "    print('Given values do not bound the root.')\n",
    "    print('Repeat with different initial values.')\n",
    "else:\n",
    "    falsePosition(f,x0,x1,e)"
   ],
   "outputs": [
    {
     "output_type": "stream",
     "name": "stdout",
     "text": [
      "First Guess: -1\n",
      "Second Guess: 0\n",
      "Tolerable Error: 1e-6\n",
      "\n",
      "\n",
      "*** FALSE POSITION (REGULA FALSI) METHOD IMPLEMENTATION ***\n",
      "Iteration-1, x2 = -0.020362 and f(x2) = -4.496381\n",
      "Iteration-2, x2 = -0.030430 and f(x2) = -2.266891\n",
      "Iteration-3, x2 = -0.035480 and f(x2) = -1.148071\n",
      "Iteration-4, x2 = -0.038030 and f(x2) = -0.582771\n",
      "Iteration-5, x2 = -0.039323 and f(x2) = -0.296161\n",
      "Iteration-6, x2 = -0.039980 and f(x2) = -0.150595\n",
      "Iteration-7, x2 = -0.040314 and f(x2) = -0.076599\n",
      "Iteration-8, x2 = -0.040484 and f(x2) = -0.038967\n",
      "Iteration-9, x2 = -0.040570 and f(x2) = -0.019825\n",
      "Iteration-10, x2 = -0.040614 and f(x2) = -0.010087\n",
      "Iteration-11, x2 = -0.040636 and f(x2) = -0.005132\n",
      "Iteration-12, x2 = -0.040648 and f(x2) = -0.002611\n",
      "Iteration-13, x2 = -0.040653 and f(x2) = -0.001329\n",
      "Iteration-14, x2 = -0.040656 and f(x2) = -0.000676\n",
      "Iteration-15, x2 = -0.040658 and f(x2) = -0.000344\n",
      "Iteration-16, x2 = -0.040658 and f(x2) = -0.000175\n",
      "Iteration-17, x2 = -0.040659 and f(x2) = -0.000089\n",
      "Iteration-18, x2 = -0.040659 and f(x2) = -0.000045\n",
      "Iteration-19, x2 = -0.040659 and f(x2) = -0.000023\n",
      "Iteration-20, x2 = -0.040659 and f(x2) = -0.000012\n",
      "Iteration-21, x2 = -0.040659 and f(x2) = -0.000006\n",
      "Iteration-22, x2 = -0.040659 and f(x2) = -0.000003\n",
      "Iteration-23, x2 = -0.040659 and f(x2) = -0.000002\n",
      "Iteration-24, x2 = -0.040659 and f(x2) = -0.000001\n",
      "\n",
      "Required root is: -0.04065928\n"
     ]
    }
   ],
   "metadata": {}
  },
  {
   "cell_type": "code",
   "execution_count": 13,
   "source": [
    "def newton(f,Df,x0,epsilon,max_iter):\n",
    "    '''Approximate solution of f(x)=0 by Newton's method.\n",
    "    Parameters\n",
    "    ----------\n",
    "    f : function\n",
    "        Function for which we are searching for a solution f(x)=0.\n",
    "    Df : function\n",
    "        Derivative of f(x).\n",
    "    x0 : number\n",
    "        Initial guess for a solution f(x)=0.\n",
    "    epsilon : number\n",
    "        Stopping criteria is abs(f(x)) < epsilon.\n",
    "    max_iter : integer\n",
    "        Maximum number of iterations of Newton's method.\n",
    "    Returns\n",
    "    -------\n",
    "    xn : number\n",
    "        Implement Newton's method: compute the linear approximation\n",
    "        of f(x) at xn and find x intercept by the formula\n",
    "            x = xn - f(xn)/Df(xn)\n",
    "        Continue until abs(f(xn)) < epsilon and return xn.\n",
    "        If Df(xn) == 0, return None. If the number of iterations\n",
    "        exceeds max_iter, then return None.\n",
    "    '''\n",
    "    xn = x0\n",
    "    for n in range(0,max_iter):\n",
    "        fxn = f(xn)\n",
    "        if abs(fxn) < epsilon:\n",
    "            print('Found solution after',n,'iterations.')\n",
    "            return xn\n",
    "        Dfxn = Df(xn)\n",
    "        if Dfxn == 0:\n",
    "            print('Zero derivative. No solution found.')\n",
    "            return None\n",
    "        xn = xn - fxn/Dfxn\n",
    "    print('Exceeded maximum iterations. No solution found.')\n",
    "    return None"
   ],
   "outputs": [],
   "metadata": {}
  },
  {
   "cell_type": "code",
   "execution_count": 14,
   "source": [
    "p = lambda x: 230*x**4+18*x**3+9*x**2-221*x-9\n",
    "Dp = lambda x: 920*x**3+54*x**2+18*x-221\n",
    "approx = newton(p,Dp,0.5,1e-6,6)\n",
    "print(approx)"
   ],
   "outputs": [
    {
     "output_type": "stream",
     "name": "stdout",
     "text": [
      "Found solution after 5 iterations.\n",
      "-0.04065928834533494\n"
     ]
    }
   ],
   "metadata": {}
  },
  {
   "cell_type": "code",
   "execution_count": 16,
   "source": [
    "f = lambda x: 230*x**4+18*x**3+9*x**2-221*x-9\n",
    "\n",
    "# Implementing False Position (Regula Falsi) Method\n",
    "def falsePosition(f,x0,x1,e):\n",
    "    step = 1\n",
    "    print('\\n\\n*** FALSE POSITION (REGULA FALSI) METHOD IMPLEMENTATION ***')\n",
    "    condition = True\n",
    "    while condition:\n",
    "        x2 = x0 - (x1-x0) * f(x0)/( f(x1) - f(x0) )\n",
    "        print('Iteration-%d, x2 = %0.6f and f(x2) = %0.6f' % (step, x2, f(x2)))\n",
    "\n",
    "        if f(x0) * f(x2) < 0:\n",
    "            x1 = x2\n",
    "        else:\n",
    "            x0 = x2\n",
    "\n",
    "        step = step + 1\n",
    "        condition = abs(f(x2)) > e\n",
    "\n",
    "    print('\\nRequired root is: %0.8f' % x2)\n",
    "    \n",
    "x0 = float(input('First Guess: '))\n",
    "x1 = float(input('Second Guess: '))\n",
    "e = float(input('Tolerable Error: '))\n",
    "\n",
    "\n",
    "# Checking accuracy of initial guess values and false positioning\n",
    "if f(x0) * f(x1) > 0.0:\n",
    "    print('Given values do not bound the root.')\n",
    "    print('Repeat with different initial values.')\n",
    "else:\n",
    "    falsePosition(f,x0,x1,e)"
   ],
   "outputs": [
    {
     "output_type": "stream",
     "name": "stdout",
     "text": [
      "First Guess: 0\n",
      "Second Guess: 1\n",
      "Tolerable Error: 1e-6\n",
      "\n",
      "\n",
      "*** FALSE POSITION (REGULA FALSI) METHOD IMPLEMENTATION ***\n",
      "Iteration-1, x2 = 0.250000 and f(x2) = -62.507812\n",
      "Iteration-2, x2 = 0.773763 and f(x2) = -83.830520\n",
      "Iteration-3, x2 = 0.944885 and f(x2) = -11.265130\n",
      "Iteration-4, x2 = 0.961111 and f(x2) = -0.855868\n",
      "Iteration-5, x2 = 0.962306 and f(x2) = -0.061802\n",
      "Iteration-6, x2 = 0.962392 and f(x2) = -0.004446\n",
      "Iteration-7, x2 = 0.962398 and f(x2) = -0.000320\n",
      "Iteration-8, x2 = 0.962398 and f(x2) = -0.000023\n",
      "Iteration-9, x2 = 0.962398 and f(x2) = -0.000002\n",
      "Iteration-10, x2 = 0.962398 and f(x2) = -0.000000\n",
      "\n",
      "Required root is: 0.96239842\n"
     ]
    }
   ],
   "metadata": {}
  },
  {
   "cell_type": "code",
   "execution_count": 17,
   "source": [
    "def newton(f,Df,x0,epsilon,max_iter):\n",
    "    '''Approximate solution of f(x)=0 by Newton's method.\n",
    "    Parameters\n",
    "    ----------\n",
    "    f : function\n",
    "        Function for which we are searching for a solution f(x)=0.\n",
    "    Df : function\n",
    "        Derivative of f(x).\n",
    "    x0 : number\n",
    "        Initial guess for a solution f(x)=0.\n",
    "    epsilon : number\n",
    "        Stopping criteria is abs(f(x)) < epsilon.\n",
    "    max_iter : integer\n",
    "        Maximum number of iterations of Newton's method.\n",
    "    Returns\n",
    "    -------\n",
    "    xn : number\n",
    "        Implement Newton's method: compute the linear approximation\n",
    "        of f(x) at xn and find x intercept by the formula\n",
    "            x = xn - f(xn)/Df(xn)\n",
    "        Continue until abs(f(xn)) < epsilon and return xn.\n",
    "        If Df(xn) == 0, return None. If the number of iterations\n",
    "        exceeds max_iter, then return None.\n",
    "    '''\n",
    "    xn = x0\n",
    "    for n in range(0,max_iter):\n",
    "        fxn = f(xn)\n",
    "        if abs(fxn) < epsilon:\n",
    "            print('Found solution after',n,'iterations.')\n",
    "            return xn\n",
    "        Dfxn = Df(xn)\n",
    "        if Dfxn == 0:\n",
    "            print('Zero derivative. No solution found.')\n",
    "            return None\n",
    "        xn = xn - fxn/Dfxn\n",
    "    print('Exceeded maximum iterations. No solution found.')\n",
    "    return None"
   ],
   "outputs": [],
   "metadata": {}
  },
  {
   "cell_type": "code",
   "execution_count": 26,
   "source": [
    "p = lambda x: 230*x**4+18*x**3+9*x**2-221*x-9\n",
    "Dp = lambda x: 920*x**3+54*x**2+18*x-221\n",
    "approx = newton(p,Dp,1,1e-6,10)\n",
    "print(approx)"
   ],
   "outputs": [
    {
     "output_type": "stream",
     "name": "stdout",
     "text": [
      "Found solution after 3 iterations.\n",
      "0.9623984191063186\n"
     ]
    }
   ],
   "metadata": {}
  }
 ],
 "metadata": {
  "kernelspec": {
   "display_name": "Python 3",
   "language": "python",
   "name": "python3"
  },
  "language_info": {
   "codemirror_mode": {
    "name": "ipython",
    "version": 3
   },
   "file_extension": ".py",
   "mimetype": "text/x-python",
   "name": "python",
   "nbconvert_exporter": "python",
   "pygments_lexer": "ipython3",
   "version": "3.8.8"
  }
 },
 "nbformat": 4,
 "nbformat_minor": 5
}