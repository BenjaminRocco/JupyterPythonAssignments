{
 "cells": [
  {
   "cell_type": "markdown",
   "metadata": {},
   "source": [
    "**Exam1: MATH 425/625 Numerical Analysis**\n",
    "\n",
    "**Ben Moss**"
   ]
  },
  {
   "cell_type": "markdown",
   "metadata": {},
   "source": [
    "**Question 1:** Implement the Horner's method for evaluating $P(x_0)$ and $P^{\\prime}(x_0)$ where $P$ is a polynomial. Apply your code to $P(X) = 2x^4 - 3x^2+3x-4$ and $x0 = -2$. Use your algorithm in combination with Newton's method to approximate a zero of $P(x)$. Note that you must use Horner's method in the Newton's functional iteration step. Use `pandas` to print a few iterations. Show your code.\n",
    "\n",
    "**Question 2:** Implement Aitken's and Steffensen's Algorithms. Use these methods to approximate $\\sqrt{2}$ using $p0 = 1$ as a start point.\n",
    "\n",
    "**Question 3:** Suppose $p$ is a zero of multiplicity $m$ of $f$, where $f^{(m)}$ is continuous on an open interval containing $p$. Show that the following fixed point method has $g^{\\prime}(p) = 0$:\n",
    "\n",
    "$$\n",
    "g(x) = x - \\dfrac{mf(x)}{f^{\\prime}(x)}\n",
    "$$\n",
    "\n",
    "What can be said about the order of convergence?\n",
    "\n",
    "**Question 4:** The value of the function $f(x)$ is know at the points $x_1 = 0$, $x_2 = 2$, and $x_3 = 3$ and is given by\n",
    "$$\n",
    "  f(x_1) = 1, \\quad f(x_2) = -1, \\quad  \\text{and} \\quad  f(x_3) = 4.\n",
    "$$\n",
    "Using Lagrange polynomials, analytically derive a quadratic polynomial $P$ that interpolates $f$ at these point and approximate $f(x)$ at $x = 1.5$ . Then use the error formula for polynomial interpolation to bound the error in approximating $f(1.5)$ assuming that $|f^{\\prime\\prime\\prime}(x)| \\leq 40$."
   ]
  },
  {
   "cell_type": "markdown",
   "metadata": {},
   "source": [
    "**Question 1:** Implement the Horner's method for evaluating $P(x_0)$ and $P^{\\prime}(x_0)$ where $P$ is a polynomial. Apply your code to $P(X) = 2x^4 - 3x^2+3x-4$ and $x0 = -2$. Use your algorithm in combination with Newton's method to approximate a zero of $P(x)$. Note that you must use Horner's method in the Newton's functional iteration step. Use `pandas` to print a few iterations. Show your code.\n",
    "\n",
    "**Solution:**"
   ]
  },
  {
   "cell_type": "code",
   "execution_count": 39,
   "metadata": {},
   "outputs": [],
   "source": [
    "import numpy as np \n",
    "import pandas as pd\n",
    "import math"
   ]
  },
  {
   "cell_type": "code",
   "execution_count": 40,
   "metadata": {},
   "outputs": [
    {
     "name": "stdout",
     "output_type": "stream",
     "text": [
      "Value of polynomial is  10\n",
      "Value of polynomial derivative is  -49\n"
     ]
    }
   ],
   "source": [
    "#Horner's Method\n",
    "def horner(poly, n, x):\n",
    " \n",
    "    # Initialize result\n",
    "    result = poly[0] \n",
    "  \n",
    "    # Returns value of poly[0]x(n-1)+ poly[1]x(n-2) + .. + poly[n-1]\n",
    "    # Evaluates value of polynomial using Horner's method\n",
    "    for i in range(1, n):\n",
    " \n",
    "        result = result*x + poly[i]\n",
    "  \n",
    "    return result\n",
    "\n",
    "def hornerderiv(polyd, m, y):\n",
    "\n",
    "    # Initialize result\n",
    "    resultderiv = polyd[0] \n",
    "\n",
    "    # Returns value of polyd[0]x(n-1)+ polyd[1]x(n-2) + .. + polyd[n-1]\n",
    "    # Evaluates value of polynomial derivative using Horner's method\n",
    "\n",
    "    for j in range(1,m):\n",
    "\n",
    "        resultderiv = resultderiv*y+polyd[j]\n",
    "\n",
    "    return resultderiv \n",
    "\n",
    "# Evaluate 2x^4 + 0x^3 - 3x^2 + 3x - 4 for x = -2\n",
    "poly = [2, 0, -3, 3, -4]\n",
    "x = -2\n",
    "n = len(poly)\n",
    "\n",
    "# Evaluate 8x^3 + 0x^2 - 6x + 3 for x = -2\n",
    "\n",
    "polyd = [8, 0, -6, 3]\n",
    "y = -2\n",
    "m = len(polyd)\n",
    " \n",
    "print(\"Value of polynomial is \" , horner(poly, n, x))\n",
    "print(\"Value of polynomial derivative is \" , hornerderiv(polyd, m, y))"
   ]
  },
  {
   "cell_type": "code",
   "execution_count": 41,
   "metadata": {},
   "outputs": [],
   "source": [
    "#Horner's Method Combined with Newton's method\n",
    "def newton(f,Df,x0,epsilon,max_iter):\n",
    "\n",
    "    '''\n",
    "    Parameters\n",
    "    ----------\n",
    "    f : function\n",
    "    Df : derivative of f\n",
    "    x0 : initial estimation of solution for f(x)=0\n",
    "    epsilon : stopping criteria is abs(f(x)) < epsilon.\n",
    "    max_iter : maximum number of iterations of Horner's/Newton's method.\n",
    "\n",
    "    Returns\n",
    "    -------\n",
    "    xn : implement Horner's/Newton's method: compute approximation\n",
    "        of f(x) at xn and find x intercept by the formula\n",
    "        Continue until abs(f(xn)) < epsilon and return xn.\n",
    "        If Df(xn) == 0, return None. If the number of iterations\n",
    "        exceeds max_iter, then return None.\n",
    "    '''   \n",
    "    xn = x0\n",
    "    for n in range(0,max_iter):\n",
    "        fxn = f(xn)\n",
    "        if abs(fxn) < epsilon:\n",
    "            print('Found solution after',n,'iterations.')\n",
    "            return xn\n",
    "        Dfxn = Df(xn)\n",
    "        if Dfxn == 0:\n",
    "            print('Zero derivative. No solution found.')\n",
    "            return None\n",
    "        xn = xn - fxn/Dfxn\n",
    "    \n",
    "    print('Exceeded maximum iterations. No solution found.')\n",
    "    return None"
   ]
  },
  {
   "cell_type": "code",
   "execution_count": 42,
   "metadata": {},
   "outputs": [
    {
     "name": "stdout",
     "output_type": "stream",
     "text": [
      "Found solution after 5 iterations.\n",
      "1.25488188483537\n"
     ]
    }
   ],
   "source": [
    "p = lambda x: 2*x**4 - 3*x**2 + 3*x - 4\n",
    "Dp = lambda x: 8*x**3 - 6*x + 3\n",
    "approx = newton(p,Dp,1,1e-10,10)\n",
    "print(approx)"
   ]
  },
  {
   "cell_type": "markdown",
   "metadata": {},
   "source": [
    "**Question 2:** Implement Aitken's and Steffensen's Algorithms. Use these methods to approximate $\\sqrt{2}$ using $p_{0} = 1$ as a start point.\n",
    "\n",
    "**Solution:**\n"
   ]
  },
  {
   "cell_type": "code",
   "execution_count": 77,
   "metadata": {},
   "outputs": [
    {
     "name": "stdout",
     "output_type": "stream",
     "text": [
      "[1.4142135623730951, 1.189207115002721, 1.0905077326652577, 1.0442737824274138, 1.0218971486541166, 1.0108892860517005, 1.0054299011128027]\n",
      "t1:\t1.01338\n",
      "t2:\t1.00353\n",
      "t3:\t1.00091\n",
      "t4:\t1.00023\n",
      "t5:\t1.00006\n"
     ]
    }
   ],
   "source": [
    "#Aitken's Algorithm\n",
    "accel = lambda x0, x1, x2: (x0*x2 - x1**2)/(x0 + x2 - 2*x1)\n",
    "\n",
    "#iteration step\n",
    "def aitkens(f, t, n):\n",
    "    initial_values = [0] * (n+2)\n",
    "    for i in range(n+2):\n",
    "        initial_values[i] = f(t)\n",
    "        t = initial_values[i]\n",
    "    print(initial_values)\n",
    "    for i in range(n):\n",
    "        result = accel(initial_values[i], initial_values[i+1], initial_values[i+2])\n",
    "        \n",
    "        print(f't{i+1}:\\t{result:.5f}')\n",
    "\n",
    "#define function and begin program\n",
    "if __name__ == '__main__':\n",
    "    f = lambda x: math.sqrt(x)\n",
    "    aitkens(f, 2, 5)"
   ]
  },
  {
   "cell_type": "code",
   "execution_count": 64,
   "metadata": {},
   "outputs": [
    {
     "name": "stdout",
     "output_type": "stream",
     "text": [
      "p_0^0  1\n",
      "p_1^0  1.4142135623730945\n",
      "p_2^0  1501199875790164.2\n",
      "p_0^1  0.9999999999999999\n",
      "p_1^1  1.414213562373094\n",
      "p_2^1  900719925474098.2\n",
      "p_0^2  0.9999999999999997\n"
     ]
    }
   ],
   "source": [
    "#Steffensen's Algorithm\n",
    "def steff(f,init,s=100):\n",
    "    \"\"\"\n",
    "    Implementation of Steffensen's method\n",
    "    Parameters:\n",
    "        f    - Function to use\n",
    "        init - Initialization for the algorithm\n",
    "        s    - Number of iterations\n",
    "    Return value:\n",
    "        p - An array containing the iterations of Steffensen's method\n",
    "    \"\"\"\n",
    "\n",
    "    # Aitken's Algorithm\n",
    "    def ait_alg(p):\n",
    "        return p[0] - ((p[1]-p[0])**2) / (p[2]-2*p[1]+p[0])\n",
    "\n",
    "    # p[i] gives you the values in the i-th step\n",
    "    p = [[init]]\n",
    "\n",
    "    for i in range(0,s):\n",
    "        p[i].append( f(p[i][0]) ) # p_1^(i)\n",
    "        p[i].append( f(p[i][1]) ) # p_2^(i)\n",
    "        p.append([ ait_alg(p[i]) ]) # Initialization for next step\n",
    "\n",
    "    return p\n",
    "\n",
    "def f(x):\n",
    "    return -(1+(1/(x-(math.sqrt(2)))))\n",
    "\n",
    "# Start iteration\n",
    "p = steff(f,1,2)\n",
    "for i in range(0,len(p)):\n",
    "    for j in range(0,len(p[i])):\n",
    "        if p[i][j] > 0:\n",
    "            print(f\"p_{j}^{i}  {p[i][j]}\")\n",
    "        else:\n",
    "            print(f\"p_{j}^{i} {p[i][j]}\")"
   ]
  },
  {
   "cell_type": "markdown",
   "metadata": {},
   "source": [
    "Thus $p_1^0$ is the correct approximation with only one iteration required. "
   ]
  },
  {
   "cell_type": "markdown",
   "metadata": {},
   "source": [
    "**Question 3:** Suppose $p$ is a zero of multiplicity $m$ of $f$, where $f^{(m)}$ is continuous on an open interval containing $p$. Show that the following fixed point method has $g^{\\prime}(p) = 0$:\n",
    "\n",
    "$$\n",
    "g(x) = x - \\dfrac{mf(x)}{f^{\\prime}(x)}\n",
    "$$\n",
    "\n",
    "What can be said about the order of convergence?\n",
    "\n",
    "**Solution:** We will show that $g(x) = x - \\dfrac{mf(x)}{f^{\\prime}(x)}$ has $g^{\\prime}(p) = 0$. We also make the $\\textit{ansatz}$ that the order of convergence will be quadratic or higher, since the fixed-point method provided is of the same form as Newton's method with the exception of a positive-integer constant $m$ scaling factor, and we will show that the order of convergence will in fact be quadratic. \n",
    "\n",
    "Suppose $p$ is a zero of the function $f(x)$ with multiplicity $m$. This implies that \n",
    "$$\n",
    "f(x)=(x-p)^{m}g(x)\n",
    "$$\n",
    "with $g(p)\\neq0.$ We take the derivative of $f$ and we have \n",
    "$$\n",
    "f'(x)=m(x-p)^{m-1}g(x)+(x-p)^{m}g'(x). \n",
    "$$\n",
    "Consider our given fixed-point method\n",
    "$$\n",
    "g(x)=x-\\dfrac{mf(x)}{f'(x)}\n",
    "$$\n",
    "and plug in the $f$ and $f'$ defined above and we have\n",
    "$$\n",
    "g(x)=x-\\dfrac{(x-p)^{m}g(x)}{m(x-p)^{m-1}g(x)+(x-p)^{m}g'(x)}\n",
    "=x-\\dfrac{(x-p)g(x)}{g(x)+\\frac{1}{m}(x-p)g'(x)}=x-\\dfrac{(x-p)}{1+\\frac{1}{m}(x-p)\\frac{g'(x)}{g(x)}}.\n",
    "$$\n",
    "This corresponds to the fixed point iteration method \n",
    "$$\n",
    "x_{n+1}=x_{n}-\\dfrac{(x_{n}-p)}{1+\\frac{1}{m}(x_{n}-p)\\frac{g'(x_{n})}{g(x_{n})}}\n",
    "$$\n",
    "where $g(x_{n})=x_{n+1}$ and $y_{n}=x_{n}-p.$ We substitute $y_{n}$ in our equation and we have\n",
    "$$\n",
    "y_{n+1}=y_{n}\\Bigg\\{1-\\bigg(1+\\dfrac{1}{m}y_{n}\\dfrac{g'(p+y_{n})}{g(p+y_{n})}\\bigg)^{-1}\\Bigg\\}.\n",
    "$$\n",
    "We proceed by using a binomial expansion of this expression and we have \n",
    "$$\n",
    "y_{n+1}=y_{n}\\Bigg\\{1-\\bigg(1-\\dfrac{1}{m}y_{n}\\dfrac{g'(p+y_{n})}{g(p+y_{n})}\\bigg)-O(y_{n}^{2})\\bigg)\\Bigg\\}=y_{n}^{2}\\dfrac{1}{m}y_{n}\\dfrac{g'(p+y_{n})}{g(p+y_{n})}+O(y_{n}^{2})\\approx y_{n}^{2}\\dfrac{1}{m}y_{n}\\dfrac{g'(p+y_{n})}{g(p+y_{n})}.\n",
    "$$\n",
    "Thus, this fixed-point interation method has quadratic convergence and converges to a fixed point such that $g'(p)=0$. $\\blacksquare$"
   ]
  },
  {
   "cell_type": "markdown",
   "metadata": {},
   "source": [
    "**Question 4:**  The value of the function $f(x)$ is know at the points $x_1 = 0$, $x_2 = 2$, and $x_3 = 3$ and is given by\n",
    "$$\n",
    "  f(x_1) = 1, \\quad f(x_2) = -1, \\quad  \\text{and} \\quad  f(x_3) = 4.\n",
    "$$\n",
    "Using Lagrange polynomials, analytically derive a quadratic polynomial $P$ that interpolates $f$ at these point and approximate $f(x)$ at $x = 1.5$ . Then use the error formula for polynomial interpolation to bound the error in approximating $f(1.5)$ assuming that $|f^{\\prime\\prime\\prime}(x)| \\leq 40$.\n",
    "\n",
    "**Solution:** We proceed with direct calculation. We have \n",
    "$$\n",
    "P(x)=f(0)\\dfrac{(x-2)(x-3)}{(0-2)(0-3)}+f(2)\\dfrac{(x-0)(x-3)}{(2-0)(2-3)}+f(3)\\dfrac{(x-0)(x-2)}{(3-0)(3-2)}\\\\\n",
    "\\\\\n",
    "=1\\cdot \\dfrac{1}{6}(x^2-5x+6)+(-1)\\bigg(-\\dfrac{1}{2}\\bigg)(x^2-3x)+(4)\\bigg(\\dfrac{1}{3}\\bigg)(x^2-2x)\\\\\n",
    "=2x^2-5x+1.\n",
    "$$\n",
    "We approximate $f(x)$ at $x=1.5$ by direct calculation and find that \n",
    "$$\n",
    "f(1.5)\\approx P(1.5)=2(1.5)^2-5(1.5)+1=2\\cdot\\bigg(\\dfrac{9}{4}\\bigg)-\\dfrac{15}{2}+1=-2.\n",
    "$$\n",
    "Then we must use the error formula for polynomial interpolation to bound the error approximating $f(1.5)$ assuming that $\\lvert\\,f'''(x)\\rvert\\leq40.$ We know this is a second order polynomial, therefore the form of our error formula is \n",
    "$$\n",
    "L_{\\text{error}}=\\dfrac{f^{3}(\\xi(x))}{3!}(x-0)(x-2)(x-3). \n",
    "$$\n",
    "We want to find $L_{\\text{error}}$ such that $\\lvert\\,f'''(x)\\rvert\\leq40.$"
   ]
  },
  {
   "cell_type": "markdown",
   "metadata": {},
   "source": [
    "Then by definition\n",
    "$$\n",
    "P(1.5)+L_{\\text{error}}(1.5)=f(1.5).\n",
    "$$\n",
    "\n",
    "\n",
    "\n",
    "\n",
    "\n",
    "\n",
    "\n",
    "\n",
    "\n"
   ]
  },
  {
   "cell_type": "markdown",
   "metadata": {},
   "source": [
    "We will arbitrarilly allow $\\xi(x)=y,$ so without loss of generality we know $\\lvert\\,f'''(y)\\rvert\\leq40.$"
   ]
  },
  {
   "cell_type": "markdown",
   "metadata": {},
   "source": [
    "We proceed directly and we have \n",
    "$$\n",
    "L_{\\text{error}}(1.5)=\\dfrac{f^{3}(\\xi(x))}{3!}(x^3-5x^2+6x)\\\\\n",
    "\\\\\n",
    "=f^{3}(\\xi(x))\\dfrac{(x^3-5x^2+6x)}{6}\\\\\n",
    "\\\\\n",
    "=f^{3}(y)\\dfrac{[(1.5)^3-5(1.5)^2+6(1.5)]}{6}\\\\\n",
    "\\\\\n",
    "=f^{3}(y)\\dfrac{3}{16}.\n",
    "$$\n"
   ]
  }
 ],
 "metadata": {
  "interpreter": {
   "hash": "f13e6d97f4457d1e0fdd7b43c38a104351601df88ec2a331a020d0f6dbb1f3d1"
  },
  "kernelspec": {
   "display_name": "Python 3",
   "language": "python",
   "name": "python3"
  },
  "language_info": {
   "codemirror_mode": {
    "name": "ipython",
    "version": 3
   },
   "file_extension": ".py",
   "mimetype": "text/x-python",
   "name": "python",
   "nbconvert_exporter": "python",
   "pygments_lexer": "ipython3",
   "version": "3.8.8"
  }
 },
 "nbformat": 4,
 "nbformat_minor": 4
}
